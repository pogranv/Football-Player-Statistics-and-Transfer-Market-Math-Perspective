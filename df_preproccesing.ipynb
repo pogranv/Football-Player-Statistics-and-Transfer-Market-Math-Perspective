{
 "cells": [
  {
   "cell_type": "code",
   "execution_count": 1,
   "metadata": {
    "id": "-nt5obPQs3WF"
   },
   "outputs": [],
   "source": [
    "import pandas as pd\n",
    "from datetime import datetime\n",
    "from dateutil.relativedelta import relativedelta\n",
    "import numpy as np\n",
    "import ast\n",
    "import re\n",
    "import seaborn as sns"
   ]
  },
  {
   "cell_type": "code",
   "execution_count": null,
   "metadata": {},
   "outputs": [],
   "source": [
    "df_copy = pd.read_excel(\"parsed_data.xlsx\")"
   ]
  },
  {
   "cell_type": "code",
   "execution_count": null,
   "metadata": {
    "colab": {
     "base_uri": "https://localhost:8080/",
     "height": 367
    },
    "id": "5RNsVSjNtENP",
    "outputId": "a440038a-c5f6-4f28-cb22-762fa2a25bf8"
   },
   "outputs": [],
   "source": [
    "df = df_copy.copy()\n",
    "df.head(3)"
   ]
  },
  {
   "cell_type": "code",
   "execution_count": null,
   "metadata": {
    "id": "lIU-nG06ten5"
   },
   "outputs": [],
   "source": [
    "# Конвертирование возраста и высоты к числовому виду.\n",
    "df['Date of birth/Age'] = df['Date of birth/Age'].apply(lambda x: int(re.search(r\"\\(([A-Za-z0-9_]+)\\)\", x).group(1)) if type(x) == str else np.nan)\n",
    "df['Height'] = df['Height'].apply(lambda x: float(x.replace(\",\", \".\").replace(' m', \"\")) if type(x) == str else np.nan)"
   ]
  },
  {
   "cell_type": "code",
   "execution_count": null,
   "metadata": {
    "id": "GEO9YW8MzWXu"
   },
   "outputs": [],
   "source": [
    "# Конвертирование столбцов с датами к числовому вид (сколько месяцев прошло с даты).\n",
    "def get_months_since_date(date):\n",
    "  if type(date) == str and date != '-':\n",
    "    try:\n",
    "        delta = relativedelta(datetime.now(), datetime.strptime(date, '%b %d, %Y'))\n",
    "    except:\n",
    "        return np.nan\n",
    "    return (delta.months + delta.years * 12)\n",
    "  return np.nan\n",
    "df['last_injury_date'] = df['last_injury_date'].apply(get_months_since_date)\n",
    "df['Joined'] = df['Joined'].apply(get_months_since_date)\n",
    "df['Contract expires'] = -df['Contract expires'].apply(get_months_since_date)\n",
    "df['Date of last contract extension'] = df['Date of last contract extension'].apply(get_months_since_date)"
   ]
  },
  {
   "cell_type": "code",
   "execution_count": null,
   "metadata": {
    "id": "KCqrAdD9tI-e"
   },
   "outputs": [],
   "source": [
    "# Переименование столбцов к одинаковому виду и удаление ненужных и лишних.\n",
    "df.rename(columns={'club_league:': 'club_league',\n",
    "                   'club_price:': 'club_price',\n",
    "                   'Date of birth/Age': 'age',\n",
    "                   'club_trophies:': 'club_trophies',\n",
    "                   'trophies_in_recent_years:':\n",
    "                   'trophies_in_recent_years:',\n",
    "                   'Full name': 'full_name',\n",
    "                   'Place of birth': 'place_of_birth',\n",
    "                   'Height': 'height',\n",
    "                   'Citizenship': 'citizenship',\n",
    "                   'Position': 'position',\n",
    "                   'Foot:': 'foot',\n",
    "                   'Player agent': 'player_agent',\n",
    "                   'Current club': 'current_club',\n",
    "                   'Joined': 'joined',\n",
    "                   'Contract expires': 'contract_expires',\n",
    "                   'Date of last contract extension': 'date_of_last_contract_extension',\n",
    "                   'Outfitter': 'outfitter',\n",
    "                   'Foot': 'foot',\n",
    "                   'Social-Media': 'social_media',\n",
    "                   'Contract option': 'contract_option',\n",
    "                   'substitutions on': 'substitutions_on',\n",
    "                   'substitutions off': 'substitutions_off',\n",
    "                   'yellow cards': 'yellow_cards',\n",
    "                   'red cards': 'red_cards',\n",
    "                   'penalty goals': 'penalty_goals',\n",
    "                   'minutes played': 'minutes_played',\n",
    "                   'National Status': 'national_status',\n",
    "                   'National Team': 'national_team',\n",
    "                   'National Matches': 'national_matches',\n",
    "                   'National Goals': 'national_goals',\n",
    "                   'National Assists': 'national_assists',\n",
    "                   'National Yellow Cards': 'national_yellow_cards',\n",
    "                   'National Red Cards': 'national_red_cards',\n",
    "                   'club_league: ': 'club_league',\n",
    "                   'club_price: ': 'club_price',\n",
    "                   'club_statistics: ': 'club_statistics',\n",
    "                   'club_trophies: ': 'club_trophies',\n",
    "                   'trophies_in_recent_years: ': 'trophies_in_recent_years',\n",
    "                   'club_league_rankings: ': 'club_league_rankings',\n",
    "                   'current_value': 'current_price'\n",
    "                   },\n",
    "                    inplace=True)\n",
    "df.drop(columns=['Unnamed: 0', 'index', 'club_statistics_own_goals'\n",
    "                 '2nd club', '3nd club', '4nd club'],\n",
    "                  inplace=True)"
   ]
  },
  {
   "cell_type": "code",
   "execution_count": null,
   "metadata": {},
   "outputs": [],
   "source": [
    "df.head()"
   ]
  },
  {
   "cell_type": "code",
   "execution_count": null,
   "metadata": {
    "id": "cu0-77AQ2T-R"
   },
   "outputs": [],
   "source": [
    "# Конвертирование столбцов с ценами к числовому виду.\n",
    "def price_to_number(price):\n",
    "  if type(price) != str:\n",
    "    return np.nan\n",
    "  koef = 1\n",
    "  if price[-1] == 'n':\n",
    "    koef = 1e9\n",
    "  elif price[-1] == 'm':\n",
    "    koef = 1e6\n",
    "  elif price[-1] == 'k':\n",
    "    koef = 1e3\n",
    "  return float(re.sub('[^\\d\\.]', '', price)) * koef\n",
    "\n",
    "\n",
    "df['club_price'] = df['club_price'].apply(price_to_number)\n",
    "df['current_price'] = df['current_price'].apply(price_to_number)"
   ]
  },
  {
   "cell_type": "code",
   "execution_count": null,
   "metadata": {
    "id": "fNRy0k056jjn"
   },
   "outputs": [],
   "source": [
    "# Разбиение столбца club_statistics, содержащий в себе словарь, на несколько столбцов.\n",
    "df['club_statistics'] = df['club_statistics'].apply(lambda x: \n",
    "                                                    ast.literal_eval(x) \n",
    "                                                    if type(x) == str else np.nan)\n",
    "\n",
    "df['club_statistics_matches'] = df['club_statistics'].apply(lambda x: \n",
    "                                                            float(x['Matches'] \n",
    "                                                            if x['Matches'].isdigit() else np.nan) \n",
    "                                                            if type(x) == dict else np.nan)\n",
    "\n",
    "df['club_statistics_goals'] = df['club_statistics'].apply(lambda x: \n",
    "                                                          float(x['Goals'].split(':')[0] \n",
    "                                                          if x['Goals'].split(':')[0].isdigit() else np.nan) \n",
    "                                                          if type(x) == dict else np.nan)\n",
    "\n",
    "df['club_statistics_own_goals'] = df['club_statistics'].apply(lambda x:\n",
    "                                                              float(x['Goals'].split(':')[1]\n",
    "                                                              if ':' in x and x['Goals'].split(':')[1].isdigit() else np.nan)\n",
    "                                                              if type(x) == dict else np.nan)\n",
    "\n",
    "df['club_statistics_pts'] = df['club_statistics'].apply(lambda x: \n",
    "                                                        float(x['Pts'] if x['Pts'].isdigit() else np.nan)\n",
    "                                                        if type(x) == dict else np.nan)\n",
    "df.drop(columns=['club_statistics'], inplace=True)"
   ]
  },
  {
   "cell_type": "code",
   "execution_count": null,
   "metadata": {
    "id": "fbOL_rsK9eKf"
   },
   "outputs": [],
   "source": [
    "# Генерация признака из столбца club_league_rankings, содержащего массив мест команды в лиге.\n",
    "df['club_league_rankings'] = df['club_league_rankings'].apply(lambda x: list(map(int, ast.literal_eval(x))) if type(x) == str else np.nan)\n",
    "df['club_league_top_rank'] = df['club_league_rankings'].apply(lambda x: min(x) if type(x) == list and len(x) > 0 else np.nan)\n",
    "df['club_league_lowest_rank'] = df['club_league_rankings'].apply(lambda x: max(x) if type(x) == list and len(x) > 0 else np.nan)\n",
    "df['club_league_mean_rank'] = df['club_league_rankings'].apply(lambda x: np.array(x).mean() if type(x) == list and len(x) > 0 else np.nan)\n",
    "df.drop(columns=['club_league_rankings'], inplace=True)"
   ]
  },
  {
   "cell_type": "code",
   "execution_count": null,
   "metadata": {},
   "outputs": [],
   "source": [
    "df.isna().sum()"
   ]
  },
  {
   "cell_type": "code",
   "execution_count": null,
   "metadata": {},
   "outputs": [],
   "source": [
    "age_mean = df.age.mean()\n",
    "df['age'].fillna(value=age_mean, inplace=True)\n",
    "df['age'].describe()"
   ]
  },
  {
   "cell_type": "code",
   "execution_count": null,
   "metadata": {},
   "outputs": [],
   "source": [
    "height_mean = df.height.mean()\n",
    "df['height'].fillna(value=height_mean, inplace=True)\n",
    "df['height'].describe()"
   ]
  },
  {
   "cell_type": "code",
   "execution_count": null,
   "metadata": {},
   "outputs": [],
   "source": [
    "display(df[df.citizenship.isna()])\n",
    "df.loc[16703, 'citizenship'] = 'Spain'\n",
    "df.loc[16879, 'citizenship'] = 'Andorra'"
   ]
  },
  {
   "cell_type": "code",
   "execution_count": null,
   "metadata": {},
   "outputs": [],
   "source": [
    "df['avg_injuries_per_season'].fillna(value=0, inplace=True)\n",
    "df['avg_injury_duration'].fillna(value=0, inplace=True)\n",
    "df['is_injured'].fillna(value=0, inplace=True)\n",
    "df['last_injury_date'].fillna(value=0, inplace=True)"
   ]
  },
  {
   "cell_type": "code",
   "execution_count": null,
   "metadata": {},
   "outputs": [],
   "source": [
    "df.isna().sum()"
   ]
  },
  {
   "cell_type": "code",
   "execution_count": null,
   "metadata": {},
   "outputs": [],
   "source": [
    "df.to_excel(\"result_parsed_v2.xlsx\")"
   ]
  },
  {
   "cell_type": "markdown",
   "metadata": {
    "id": "LWj1xt1F_iAH"
   },
   "source": [
    "# Second stage"
   ]
  },
  {
   "cell_type": "code",
   "execution_count": null,
   "metadata": {},
   "outputs": [],
   "source": [
    "df = pd.read_excel(\"result_parsed_v2.xlsx\")"
   ]
  },
  {
   "cell_type": "code",
   "execution_count": null,
   "metadata": {},
   "outputs": [],
   "source": [
    "df['foot'].fillna(value='right', inplace=True)\n",
    "df['foot_left'] = (df['foot'] != 'right').astype(int)\n",
    "df['foot_right'] = (df['foot'] != 'left').astype(int)\n",
    "df.drop(columns=['foot'], inplace=True)\n",
    "df.head(3)"
   ]
  },
  {
   "cell_type": "code",
   "execution_count": null,
   "metadata": {},
   "outputs": [],
   "source": [
    "df['outfitter'] = 1 - df['outfitter'].isna()\n",
    "df['player_agent'] = 1 - df['player_agent'].isna()\n",
    "df.outfitter.head(3)"
   ]
  },
  {
   "cell_type": "code",
   "execution_count": null,
   "metadata": {},
   "outputs": [],
   "source": [
    "competition_weights = {\n",
    "    'Champions League Winner': 10,\n",
    "    'FIFA Club World Cup winner': 10,\n",
    "    'Europa League Winner': 9,\n",
    "    'UEFA Supercup Winner': 8,\n",
    "    'Champions League runner-up': 8,\n",
    "    'Europa League runner-up': 7,\n",
    "    'UEFA Super Cup runner-up': 6,\n",
    "    'Conference League winner': 6,\n",
    "    'Conference League runner up': 5,\n",
    "    'Champions League Participant': 4,\n",
    "    'Europa League Participant': 3,\n",
    "    'English Champion': 9,\n",
    "    'German Champion': 9,\n",
    "    'Spanish Champion': 9,\n",
    "    'Italian Champion': 9,\n",
    "    'French Champion': 9,\n",
    "    'FA Cup Winner': 8,\n",
    "    'German Cup winner': 8,\n",
    "    'Spanish Cup winner': 8,\n",
    "    'English Supercup Winner': 7,\n",
    "    'French Supercup Winner': 7,\n",
    "    'Italian Super Cup winner': 7,\n",
    "    'English League Cup winner': 6,\n",
    "    'French league cup winner': 6,\n",
    "    'FA Cup Runner up': 5,\n",
    "    'German Cup runner-up': 5,\n",
    "    'English League Cup runner-up': 4,\n",
    "    'French league cup runner-up': 4,\n",
    "    'German Runner Up': 3,\n",
    "    'relegated from 1st league': 3,\n",
    "    'English 2nd tier champion': 7,\n",
    "    'German 2. Bundesliga Champion': 7,\n",
    "    'Spanish 2nd tier champion': 7,\n",
    "    'Italian Serie B champion': 7,\n",
    "    'French 2nd tier champion': 7,\n",
    "    'Promoted to 1st league': 6,\n",
    "    'English 3rd tier champion': 5,\n",
    "    'Promoted to 2. Liga': 5,\n",
    "    'German 3. Liga Champion': 5,\n",
    "    'Promoted to third tier': 4,\n",
    "    'Promotion to 4th division': 3,\n",
    "    'relegated from 2nd league': 3,\n",
    "    'relegated from 3rd league': 3,\n",
    "    'Relegation from 4th division': 2,\n",
    "    'German Regionalliga Bavaria Champion': 4,\n",
    "    'German Regionalliga West Champion': 4,\n",
    "    'Italians U19s Cup Winner': 4,\n",
    "    'U21 Premier League Sieger': 4,\n",
    "    'Landespokal Württemberg Winner': 3,\n",
    "    'Italian Lega Pro Champion (A/C)': 3,\n",
    "    'Scudetto Serie D': 3,\n",
    "    'Italienischer Pokalsieger (Serie C)': 3,\n",
    "    'Herbstmeister (Autumn Champion)': 2,\n",
    "    'Copa Catalunya Winner': 1\n",
    "}\n",
    "import ast\n",
    "import re\n",
    "\n",
    "def calculate_player_score(trophies_string, competition_weights):\n",
    "    try:\n",
    "        trophies_list = ast.literal_eval(trophies_string)\n",
    "    except (ValueError, SyntaxError):\n",
    "        trophies_list = []\n",
    "    \n",
    "    scores = []  # Список для хранения баллов каждого трофея\n",
    "    for trophy in trophies_list:\n",
    "        match = re.match(r'(\\d+)x\\s(.+)', trophy)\n",
    "        if match:\n",
    "            count = int(match.group(1))\n",
    "            trophy_name = match.group(2)\n",
    "            score = competition_weights.get(trophy_name, 0) * count\n",
    "        else:\n",
    "            score = competition_weights.get(trophy, 0)\n",
    "        \n",
    "        scores.append(score)  # Добавляем балл трофея в список\n",
    "    \n",
    "    total_score = sum(scores)\n",
    "    average_score = total_score / len(scores) if scores else 0  # Среднее значение\n",
    "    max_score = max(scores) if scores else 0  # Наивысшее значение\n",
    "    min_score = min(scores) if scores else 0  # Наименьшее значение\n",
    "    \n",
    "    return total_score, average_score, max_score, min_score\n",
    "\n",
    "\n",
    "results = df['trophies_in_recent_years'].apply(lambda x: calculate_player_score(x, competition_weights))\n",
    "df[['trophies_total_score', 'trophies_average_score', 'trophies_max_score', 'trophies_min_score']] = pd.DataFrame(results.tolist(), index=df.index)\n",
    "trophies_amount = []\n",
    "for t in df['trophies_in_recent_years']:\n",
    "    try:\n",
    "        trophies_amount.append(len(ast.literal_eval(t)))\n",
    "    except:\n",
    "        trophies_amount.append(0)\n",
    "df['trophies_amount'] = trophies_amount\n",
    "df.drop(columns=['trophies_in_recent_years'], inplace=True)"
   ]
  },
  {
   "cell_type": "code",
   "execution_count": null,
   "metadata": {},
   "outputs": [],
   "source": [
    "club_competition_weights = {\n",
    "    'FIFA Club World Cup winner': 10,\n",
    "    'UEFA Champions League Winner': 10,\n",
    "    'UEFA Europa League Winner': 9,\n",
    "    'UEFA Supercup Winner': 8,\n",
    "    'Intercontinental Cup Winner': 8,\n",
    "    'UEFA Cup Winner': 9,\n",
    "    'Cup Winners Cup Winner': 8,\n",
    "    'Inter-Cities Fairs Cup winner': 7,\n",
    "    'European Champion Clubs’ Cup winner': 10,\n",
    "    'Intertoto-Cup Winner': 6,\n",
    "    'Conference League winner': 7,\n",
    "    'English Champion': 9,\n",
    "    'German Champion': 9,\n",
    "    'Spanish Champion': 9,\n",
    "    'Italian Champion': 9,\n",
    "    'French Champion': 9,\n",
    "    'FA Cup Winner': 8,\n",
    "    'German Cup winner': 8,\n",
    "    'Spanish Cup winner': 8,\n",
    "    'Italian Cup winner': 8,\n",
    "    'French Cup winner': 8,\n",
    "    'English League Cup winner': 7,\n",
    "    'French league cup winner': 7,\n",
    "    'League Cup Winner': 7,\n",
    "    'English Supercup Winner': 7,\n",
    "    'German Super Cup Winner': 7,\n",
    "    'Spanish Super Cup winner': 7,\n",
    "    'Italian Super Cup winner': 7,\n",
    "    'French Supercup Winner': 7,\n",
    "    'English 2nd tier champion': 6,\n",
    "    'German 2. Bundesliga Champion': 6,\n",
    "    'Spanish 2nd tier champion': 6,\n",
    "    'Italian Serie B champion': 6,\n",
    "    'French 2nd tier champion': 6,\n",
    "    'English 3rd tier champion': 5,\n",
    "    'German 3. Liga Champion': 5,\n",
    "    'English 4th tier champion': 4,\n",
    "    'Football League Trophy Winner': 3,\n",
    "    'German U19 Champion': 4,\n",
    "    'French Youth Cup winner': 4,\n",
    "    'U21 Premier League Sieger': 4,\n",
    "    'Landespokal Winners (for all)': 3,\n",
    "    'Italian Lega Pro Champion (A/B/C)': 3,\n",
    "    'Italian Lega Pro 2 Champion (B/C/D)': 3,\n",
    "    'Scudetto Serie D': 3,\n",
    "    'Mitropacup': 3,\n",
    "    'Winner Copa RFEF': 2,\n",
    "    'Winner Coupe Charles Drago': 2,\n",
    "    'Winner of the German Amateur championship': 2,\n",
    "    'Copa Catalunya Winner': 2,\n",
    "    'Copa Eva Duarte Winner': 2,\n",
    "    'Western German Cup Winner': 2,\n",
    "}\n",
    "def calculate_club_score(trophies_string, competition_weights):\n",
    "    try:\n",
    "        trophies_list = ast.literal_eval(trophies_string)\n",
    "    except (ValueError, SyntaxError):\n",
    "        trophies_list = []\n",
    "    \n",
    "    scores = []\n",
    "    for trophy in trophies_list:\n",
    "        match = re.match(r'(\\d+)x\\s(.+)', trophy)\n",
    "        if match:\n",
    "            count = int(match.group(1))\n",
    "            trophy_name = match.group(2)\n",
    "            if trophy_name in competition_weights:\n",
    "                # Умножаем балл трофея на количество и добавляем результат один раз\n",
    "                score = competition_weights[trophy_name] * count\n",
    "                scores.append(score)  # Добавляем результат умножения один раз\n",
    "        else:\n",
    "            if trophy in competition_weights:\n",
    "                scores.append(competition_weights[trophy])\n",
    "    \n",
    "    if not scores:  # Если список пустой\n",
    "        min_score_from_weights = min(competition_weights.values()) if competition_weights else 0\n",
    "        # Возвращаем минимальное значение из весов соревнований, если список пуст\n",
    "        return [0, 0, 0, min_score_from_weights]\n",
    "    \n",
    "    total_score = sum(scores)\n",
    "    average_score = total_score / len(scores) if scores else 0\n",
    "    max_score = max(scores) if scores else 0\n",
    "    # Используем минимальное значение из весов, если есть баллы, иначе берем минимальное из весов соревнований\n",
    "    min_score = min(scores) if scores else min(competition_weights.values())\n",
    "\n",
    "    return total_score, average_score, max_score, min_score\n",
    "results = df['club_trophies'].apply(lambda x: calculate_club_score(x, club_competition_weights))\n",
    "\n",
    "df[['club_trophies_total_score', 'club_trophies_average_score', 'club_trophies_max_score', 'club_trophies_min_score']] = pd.DataFrame(results.tolist(), index=df.index)\n",
    "trophies_amount = []\n",
    "for t in df['club_trophies']:\n",
    "    try:\n",
    "        trophies_amount.append(len(ast.literal_eval(t)))\n",
    "    except:\n",
    "        trophies_amount.append(0)\n",
    "df['club_trophies_amount'] = trophies_amount\n",
    "df.drop(columns=['club_trophies'], inplace=True)\n",
    "df"
   ]
  },
  {
   "cell_type": "code",
   "execution_count": null,
   "metadata": {},
   "outputs": [],
   "source": [
    "df.isna().sum()[df.isna().sum() != 0]"
   ]
  },
  {
   "cell_type": "code",
   "execution_count": null,
   "metadata": {},
   "outputs": [],
   "source": [
    "df.drop(columns=['Unnamed: 0', 'club_statistics_own_goals', 'date_of_last_contract_extension', 'Last contract extension', \n",
    "         'contract_option', 'On loan from', 'Contract there expires', 'contract_expires'], inplace=True)\n",
    "df.rename(columns={\"National Status\": \"national_status\"}, inplace=True)"
   ]
  },
  {
   "cell_type": "code",
   "execution_count": null,
   "metadata": {},
   "outputs": [],
   "source": [
    "fill_zeros = ['club_statistics_pts', 'club_league_top_rank', 'club_league_lowest_rank', \n",
    "              'club_league_mean_rank', 'club_statistics_matches', 'club_statistics_goals',\n",
    "             'national_team', 'national_matches', 'national_goals', 'national_assists', \n",
    "              'national_yellow_cards', 'national_red_cards', 'national_status',\n",
    "             'club_price', 'joined']\n",
    "for col in fill_zeros:\n",
    "    df[col].fillna(value=0, inplace=True)\n",
    "\n",
    "df"
   ]
  },
  {
   "cell_type": "code",
   "execution_count": null,
   "metadata": {},
   "outputs": [],
   "source": [
    "df.isna().sum()[df.isna().sum() != 0]"
   ]
  },
  {
   "cell_type": "code",
   "execution_count": null,
   "metadata": {},
   "outputs": [],
   "source": [
    "(df[df.position != 'Goalkeeper']).to_excel(\"baseline_dataset.xlsx\")"
   ]
  }
 ],
 "metadata": {
  "colab": {
   "provenance": []
  },
  "kernelspec": {
   "display_name": "Python 3 (ipykernel)",
   "language": "python",
   "name": "python3"
  },
  "language_info": {
   "codemirror_mode": {
    "name": "ipython",
    "version": 3
   },
   "file_extension": ".py",
   "mimetype": "text/x-python",
   "name": "python",
   "nbconvert_exporter": "python",
   "pygments_lexer": "ipython3",
   "version": "3.10.13"
  }
 },
 "nbformat": 4,
 "nbformat_minor": 4
}
