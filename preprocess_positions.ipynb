{
 "cells": [
  {
   "cell_type": "code",
   "execution_count": 1,
   "id": "9bf2e72d-a598-44e6-99c9-9fe58400ad27",
   "metadata": {},
   "outputs": [],
   "source": [
    "import pandas as pd"
   ]
  },
  {
   "cell_type": "code",
   "execution_count": 2,
   "id": "9a81ccad-c4a2-44be-8bde-7d29a6abac9f",
   "metadata": {},
   "outputs": [],
   "source": [
    "# Читаем данные из файла Excel в формате Pandas DataFrame\n",
    "df = pd.read_excel(\"dataset_with_followers.xlsx\")"
   ]
  },
  {
   "cell_type": "code",
   "execution_count": 3,
   "id": "8174ec32-ea4d-444d-88e6-98cf4708a76d",
   "metadata": {},
   "outputs": [],
   "source": [
    "# Функция достаёт из полной позиции игрока название группы (например, attack, midfield или defender)\n",
    "def extract_position_group(role: str):\n",
    "    role = role.lower()\n",
    "    if role.count(\"-\"):\n",
    "        return role.split(\" - \")[0]\n",
    "    else:\n",
    "        return role\n",
    "\n",
    "# Функция достаёт из полной позиции игрока название роли (например, centre-back, left_back и тд.)\n",
    "def extract_position_role(role: str):\n",
    "    role = role.lower()\n",
    "    if role.count(\"-\"):\n",
    "        return role.split(\" - \")[1]\n",
    "    else:\n",
    "        return \"Null\""
   ]
  },
  {
   "cell_type": "code",
   "execution_count": 4,
   "id": "4eea34ed-908b-46ac-b66c-d3c644875db9",
   "metadata": {},
   "outputs": [],
   "source": [
    "# Применяем функции extract_position_group и extract_position_role\n",
    "# к столбцу position DataFrame и сохраняем результаты в новые\n",
    "# столбцы position_group и position_role, соответственно.\n",
    "df[\"position_group\"] = df[\"position\"].apply(extract_position_group)\n",
    "df[\"position_role\"] = df[\"position\"].apply(extract_position_role)\n",
    "df = df.drop(\"position\", axis=1)"
   ]
  },
  {
   "cell_type": "code",
   "execution_count": 5,
   "id": "019b15bb-f021-48d4-8876-1249a958e5d0",
   "metadata": {},
   "outputs": [
    {
     "data": {
      "text/plain": [
       "full_name          5400\n",
       "place_of_birth     2742\n",
       "social_media      10473\n",
       "club_league         834\n",
       "price_history         4\n",
       "dtype: int64"
      ]
     },
     "execution_count": 5,
     "metadata": {},
     "output_type": "execute_result"
    }
   ],
   "source": [
    "# Подсчитываем количество отсутствующих (незаполненных)\n",
    "# значений в DataFrame.\n",
    "df.isna().sum()[df.isna().sum() != 0]"
   ]
  },
  {
   "cell_type": "markdown",
   "id": "42485c1e-66df-4e60-9a08-d0c06dafbc48",
   "metadata": {},
   "source": [
    "### Финальная замена пропусков и предобработка"
   ]
  },
  {
   "cell_type": "code",
   "execution_count": 6,
   "id": "be06ddae-f910-48f6-ba4b-5b5903266659",
   "metadata": {},
   "outputs": [],
   "source": [
    "# Заменяем отсутствующие (незаполненные) значения в столбце\n",
    "# club_league DataFrame на строку 'unknown'\n",
    "df[\"club_league\"] = df[\"club_league\"].fillna(\"unknown\")\n",
    "\n",
    "# Удаляем столбцы social_media, price_history, place_of_birth, full_name и club_link из DataFrame\n",
    "df = df.drop([\"social_media\", \"price_history\", \"place_of_birth\", \"full_name\", \"club_link\"], axis=1)"
   ]
  },
  {
   "cell_type": "markdown",
   "id": "072e2834-4cf4-43ac-8264-fa18fa35f6d9",
   "metadata": {},
   "source": [
    "### Сохранение датасета"
   ]
  },
  {
   "cell_type": "code",
   "execution_count": 7,
   "id": "b52d6121-894e-49a5-b818-667a18265d94",
   "metadata": {},
   "outputs": [],
   "source": [
    "# Сохраняем DataFrame merged в файл final_dataset.xlsx без указания индекса.\n",
    "df.to_excel(\"final_dataset.xlsx\", index=False)"
   ]
  }
 ],
 "metadata": {
  "kernelspec": {
   "display_name": "Python 3 (ipykernel)",
   "language": "python",
   "name": "python3"
  },
  "language_info": {
   "codemirror_mode": {
    "name": "ipython",
    "version": 3
   },
   "file_extension": ".py",
   "mimetype": "text/x-python",
   "name": "python",
   "nbconvert_exporter": "python",
   "pygments_lexer": "ipython3",
   "version": "3.10.13"
  }
 },
 "nbformat": 4,
 "nbformat_minor": 5
}
