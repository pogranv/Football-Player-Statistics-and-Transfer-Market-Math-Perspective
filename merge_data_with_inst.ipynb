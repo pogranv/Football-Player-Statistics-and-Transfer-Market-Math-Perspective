{
 "cells": [
  {
   "cell_type": "code",
   "execution_count": 1,
   "id": "a81d4b19-bfaa-4707-ba6d-1b7bb6f8ff2d",
   "metadata": {},
   "outputs": [],
   "source": [
    "import pandas as pd\n",
    "import time\n",
    "import numpy as np\n",
    "import requests\n",
    "import re\n",
    "from selenium import webdriver\n",
    "from tqdm import tqdm\n",
    "from lxml import html\n",
    "from selenium.webdriver.common.keys import Keys\n",
    "from selenium.webdriver.common.by import By\n",
    "from selenium.webdriver.support.ui import WebDriverWait\n",
    "from selenium.webdriver.support import expected_conditions as EC\n",
    "from selenium.common.exceptions import TimeoutException"
   ]
  },
  {
   "cell_type": "markdown",
   "id": "56206104-101d-4911-9ceb-cb3f787adf0f",
   "metadata": {},
   "source": [
    "### Пользовательские функции"
   ]
  },
  {
   "cell_type": "code",
   "execution_count": 2,
   "id": "840d18cd-b7f9-4fca-b645-3b8c7a80c911",
   "metadata": {},
   "outputs": [],
   "source": [
    "# Функция extract_username принимает строку s и возвращает имя пользователя из URL-адреса,\n",
    "# если он найден, или строку \"null\", если он не найден.\n",
    "def extract_username(s):\n",
    "    try:\n",
    "        # Создаём регулярное выражение для поиска URL-адреса Instagram.\n",
    "        pattern = r\"instagram.com/(.*?)/\"\n",
    "\n",
    "        # Ищем URL-адрес в строке s.\n",
    "        result = re.search(pattern, str(s))\n",
    "\n",
    "        # Если URL-адрес найден, возвращаем имя пользователя.\n",
    "        return result.group(1)\n",
    "\n",
    "    # Если URL-адрес не найден, возвращаем строку \"null\".\n",
    "    except:\n",
    "        return \"null\""
   ]
  },
  {
   "cell_type": "code",
   "execution_count": 3,
   "id": "cefb4d0d-620d-4c94-9744-0fbc2877917f",
   "metadata": {},
   "outputs": [],
   "source": [
    "def get_followers(nickname):\n",
    "    # Отправляем GET-запрос на страницу пользователя\n",
    "    url = f'https://www.pixwox.com/profile/{nickname}'\n",
    "\n",
    "    # Заголовки запроса (например, User-Agent браузера Google Chrome)\n",
    "    headers = {\n",
    "        \"User-Agent\": \"Mozilla/5.0 (Windows NT 10.0; Win64; x64) AppleWebKit/537.36 (KHTML, like Gecko) Chrome/58.0.3029.110 Safari/537.3\"\n",
    "    }\n",
    "    \n",
    "    response = requests.get(url, headers=headers)\n",
    "\n",
    "    # Если запрос прошел успешно, то парсим HTML\n",
    "    if response.status_code == 200:\n",
    "        tree = html.fromstring(response.content)\n",
    "\n",
    "        # Ищем необходимый элемент по обновленному XPath\n",
    "        element = tree.xpath('//div[contains(@class, \"item_followers\")]//div[contains(@class, \"num\")]')\n",
    "\n",
    "        # Если элемент найден, то возвращаем значение его атрибута title\n",
    "        if element:\n",
    "            return int(element[0].get('title').replace(',', ''))\n",
    "        else:\n",
    "            return -1\n",
    "    else:\n",
    "        return -1"
   ]
  },
  {
   "cell_type": "markdown",
   "id": "b3997d34-8d33-474e-9961-08ce0262d662",
   "metadata": {},
   "source": [
    "### Чтение данных и выделение ссылок на Instagram"
   ]
  },
  {
   "cell_type": "code",
   "execution_count": 4,
   "id": "d4c0c871-0c49-4a34-90ad-a24fc2574037",
   "metadata": {},
   "outputs": [],
   "source": [
    "# Читаем данные из файла main.xlsx в DataFrame.\n",
    "df = pd.read_excel(\"baseline_dataset.xlsx\")\n",
    "\n",
    "# Читаем данные из файла final_full_followers_data.xlsx в DataFrame.\n",
    "socials = pd.read_excel(\"final_full_followers_data.xlsx\")"
   ]
  },
  {
   "cell_type": "code",
   "execution_count": 5,
   "id": "8fcd485d-b9c5-4496-83b7-0880ac55f893",
   "metadata": {},
   "outputs": [
    {
     "data": {
      "text/plain": [
       "array(['josko_gvardiol', 'nathanake', 'sergiogm_10', ..., 'cristianbro5',\n",
       "       'berna94_', '2k.z4'], dtype=object)"
      ]
     },
     "execution_count": 5,
     "metadata": {},
     "output_type": "execute_result"
    }
   ],
   "source": [
    "# Применяем функцию extract_username к столбцу \"social_media\" DataFrame.\n",
    "df[\"username\"] = df[\"social_media\"].apply(extract_username)\n",
    "\n",
    "# Получаем список уникальных значений столбца \"username\".\n",
    "df[\"username\"].unique()"
   ]
  },
  {
   "cell_type": "code",
   "execution_count": 6,
   "id": "390c8041-3a2c-4eaf-9b08-c3e81d8b2b29",
   "metadata": {},
   "outputs": [],
   "source": [
    "# Объединяем DataFrame по столбцу \"username\".\n",
    "merged = df.merge(socials, on=\"username\", how=\"left\")\n",
    "\n",
    "# Заменяем значения -1 и None в столбце \"followers\" на 0.\n",
    "merged[\"followers\"] = merged[\"followers\"].replace([-1, None], 0)"
   ]
  },
  {
   "cell_type": "code",
   "execution_count": 7,
   "id": "8c3571f8-350c-4ab0-bce5-a93c200b7ac4",
   "metadata": {},
   "outputs": [],
   "source": [
    "# Создаём список имён пользователей, у которых нет подписчиков.\n",
    "problem_list = merged[merged[\"followers\"] == 0][\"username\"].unique()"
   ]
  },
  {
   "cell_type": "code",
   "execution_count": 8,
   "id": "9ed19982-9bfa-467a-8956-45d86fb68a51",
   "metadata": {},
   "outputs": [],
   "source": [
    "# Инициализируем словарь для хранения количества подписчиков для каждого имени пользователя.\n",
    "followers_dict = {}"
   ]
  },
  {
   "cell_type": "markdown",
   "id": "ad4d455d-68f6-4228-80a7-83c394ccc5ba",
   "metadata": {},
   "source": [
    "### Повторный парсинг ссылок для получения подписчиков"
   ]
  },
  {
   "cell_type": "code",
   "execution_count": 9,
   "id": "55ee4ec3-19a2-4b82-bca0-b732194f9d3c",
   "metadata": {},
   "outputs": [
    {
     "name": "stderr",
     "output_type": "stream",
     "text": [
      "100%|█████████████████████████████████████████| 283/283 [01:36<00:00,  2.94it/s]\n"
     ]
    }
   ],
   "source": [
    "# Перебираем имена пользователей из списка problem_list.\n",
    "for username in tqdm(problem_list):\n",
    "    # Пытаемся получить количество подписчиков для данного имени пользователя.\n",
    "    try:\n",
    "        followers_dict[username] = get_followers(username)\n",
    "    except:\n",
    "        # Если имя пользователя не найдено, выводим сообщение и продолжаем цикл.\n",
    "        print(f\"{username} - not found\")\n",
    "        continue\n"
   ]
  },
  {
   "cell_type": "code",
   "execution_count": 10,
   "id": "741ca771-112d-4244-83ce-41c2901a136c",
   "metadata": {},
   "outputs": [],
   "source": [
    "# Создаём DataFrame из словаря followers_dict.\n",
    "fixed = pd.DataFrame(\n",
    "    list(followers_dict.items()), columns=[\"username\", \"new_followers\"]\n",
    ")"
   ]
  },
  {
   "cell_type": "code",
   "execution_count": 11,
   "id": "ad657df8-8116-4273-8145-3d60dc123ec9",
   "metadata": {},
   "outputs": [
    {
     "data": {
      "text/html": [
       "<div>\n",
       "<style scoped>\n",
       "    .dataframe tbody tr th:only-of-type {\n",
       "        vertical-align: middle;\n",
       "    }\n",
       "\n",
       "    .dataframe tbody tr th {\n",
       "        vertical-align: top;\n",
       "    }\n",
       "\n",
       "    .dataframe thead th {\n",
       "        text-align: right;\n",
       "    }\n",
       "</style>\n",
       "<table border=\"1\" class=\"dataframe\">\n",
       "  <thead>\n",
       "    <tr style=\"text-align: right;\">\n",
       "      <th></th>\n",
       "      <th>username</th>\n",
       "      <th>new_followers</th>\n",
       "    </tr>\n",
       "  </thead>\n",
       "  <tbody>\n",
       "    <tr>\n",
       "      <th>0</th>\n",
       "      <td>oscarbobb</td>\n",
       "      <td>305294</td>\n",
       "    </tr>\n",
       "    <tr>\n",
       "      <th>1</th>\n",
       "      <td>erling.haaland</td>\n",
       "      <td>38501935</td>\n",
       "    </tr>\n",
       "    <tr>\n",
       "      <th>2</th>\n",
       "      <td>levicolwill</td>\n",
       "      <td>565807</td>\n",
       "    </tr>\n",
       "    <tr>\n",
       "      <th>42</th>\n",
       "      <td>kastriotdermaku</td>\n",
       "      <td>10740</td>\n",
       "    </tr>\n",
       "    <tr>\n",
       "      <th>78</th>\n",
       "      <td>laparra17</td>\n",
       "      <td>28604</td>\n",
       "    </tr>\n",
       "    <tr>\n",
       "      <th>164</th>\n",
       "      <td>yans.yansane</td>\n",
       "      <td>11</td>\n",
       "    </tr>\n",
       "    <tr>\n",
       "      <th>184</th>\n",
       "      <td>noahsonkosundberg</td>\n",
       "      <td>12746</td>\n",
       "    </tr>\n",
       "    <tr>\n",
       "      <th>275</th>\n",
       "      <td>m_vucic_</td>\n",
       "      <td>1102</td>\n",
       "    </tr>\n",
       "  </tbody>\n",
       "</table>\n",
       "</div>"
      ],
      "text/plain": [
       "              username  new_followers\n",
       "0            oscarbobb         305294\n",
       "1       erling.haaland       38501935\n",
       "2          levicolwill         565807\n",
       "42     kastriotdermaku          10740\n",
       "78           laparra17          28604\n",
       "164       yans.yansane             11\n",
       "184  noahsonkosundberg          12746\n",
       "275           m_vucic_           1102"
      ]
     },
     "execution_count": 11,
     "metadata": {},
     "output_type": "execute_result"
    }
   ],
   "source": [
    "# Выбираем строки, где значение столбца \"new_followers\" больше 0, и выводим первые 10 строк результата.\n",
    "fixed[fixed[\"new_followers\"] > 0].head(10)"
   ]
  },
  {
   "cell_type": "code",
   "execution_count": 12,
   "id": "967e9b79-8eb1-42ca-9e0b-2d6e93f43ba3",
   "metadata": {},
   "outputs": [],
   "source": [
    "# Заменяем значение 0 в столбце \"followers\" на NaN.\n",
    "merged[\"followers\"] = merged[\"followers\"].replace(0, np.nan)"
   ]
  },
  {
   "cell_type": "markdown",
   "id": "d976a10c-0216-4f7d-9e65-65a79b67ad12",
   "metadata": {},
   "source": [
    "### Обновление кол-ва подписчиков в старой таблице"
   ]
  },
  {
   "cell_type": "code",
   "execution_count": 13,
   "id": "fb3dad4d-6722-41fe-b648-770c8dc23758",
   "metadata": {},
   "outputs": [],
   "source": [
    "# Объединяем DataFrame merged и fixed по столбцу \"username\" с помощью метода merge() и сохраняем результат в переменную merged.\n",
    "merged = merged.merge(fixed, on=\"username\", how=\"left\")\n",
    "\n",
    "# Заполняем значения NaN в столбце \"new_followers\" значением 0.\n",
    "merged[\"new_followers\"] = merged[\"new_followers\"].fillna(0)\n",
    "\n",
    "# Если значение в столбце \"followers\" равно NaN, заменяем его на значение из столбца \"new_followers\".\n",
    "merged[\"followers\"] = merged[\"followers\"].fillna(merged[\"new_followers\"])\n",
    "\n",
    "# Удаляем столбцы \"username\" и \"new_followers\" из DataFrame merged.\n",
    "merged = merged.drop([\"username\", \"new_followers\"], axis=1)"
   ]
  },
  {
   "cell_type": "code",
   "execution_count": 14,
   "id": "9ac00faa-37d7-45ba-a74b-ec215762eb65",
   "metadata": {},
   "outputs": [
    {
     "data": {
      "text/html": [
       "<div>\n",
       "<style scoped>\n",
       "    .dataframe tbody tr th:only-of-type {\n",
       "        vertical-align: middle;\n",
       "    }\n",
       "\n",
       "    .dataframe tbody tr th {\n",
       "        vertical-align: top;\n",
       "    }\n",
       "\n",
       "    .dataframe thead th {\n",
       "        text-align: right;\n",
       "    }\n",
       "</style>\n",
       "<table border=\"1\" class=\"dataframe\">\n",
       "  <thead>\n",
       "    <tr style=\"text-align: right;\">\n",
       "      <th></th>\n",
       "      <th>full_name</th>\n",
       "      <th>age</th>\n",
       "      <th>place_of_birth</th>\n",
       "      <th>height</th>\n",
       "      <th>citizenship</th>\n",
       "      <th>position</th>\n",
       "      <th>player_agent</th>\n",
       "      <th>current_club</th>\n",
       "      <th>joined</th>\n",
       "      <th>outfitter</th>\n",
       "      <th>...</th>\n",
       "      <th>trophies_average_score</th>\n",
       "      <th>trophies_max_score</th>\n",
       "      <th>trophies_min_score</th>\n",
       "      <th>trophies_amount</th>\n",
       "      <th>club_trophies_total_score</th>\n",
       "      <th>club_trophies_average_score</th>\n",
       "      <th>club_trophies_max_score</th>\n",
       "      <th>club_trophies_min_score</th>\n",
       "      <th>club_trophies_amount</th>\n",
       "      <th>followers</th>\n",
       "    </tr>\n",
       "  </thead>\n",
       "  <tbody>\n",
       "    <tr>\n",
       "      <th>0</th>\n",
       "      <td>Joško Gvardiol</td>\n",
       "      <td>22.0</td>\n",
       "      <td>Zagreb</td>\n",
       "      <td>1.85</td>\n",
       "      <td>Croatia</td>\n",
       "      <td>Defender - Centre-Back</td>\n",
       "      <td>1</td>\n",
       "      <td>Manchester City</td>\n",
       "      <td>7</td>\n",
       "      <td>0</td>\n",
       "      <td>...</td>\n",
       "      <td>6.814815</td>\n",
       "      <td>10</td>\n",
       "      <td>4</td>\n",
       "      <td>27</td>\n",
       "      <td>303</td>\n",
       "      <td>37.875</td>\n",
       "      <td>81</td>\n",
       "      <td>8</td>\n",
       "      <td>9</td>\n",
       "      <td>1199636.0</td>\n",
       "    </tr>\n",
       "    <tr>\n",
       "      <th>1</th>\n",
       "      <td>Nathan Benjamin Aké</td>\n",
       "      <td>29.0</td>\n",
       "      <td>Den Haag</td>\n",
       "      <td>1.80</td>\n",
       "      <td>Netherlands Cote d'Ivoire</td>\n",
       "      <td>Defender - Centre-Back</td>\n",
       "      <td>1</td>\n",
       "      <td>Manchester City</td>\n",
       "      <td>43</td>\n",
       "      <td>1</td>\n",
       "      <td>...</td>\n",
       "      <td>6.814815</td>\n",
       "      <td>10</td>\n",
       "      <td>4</td>\n",
       "      <td>27</td>\n",
       "      <td>303</td>\n",
       "      <td>37.875</td>\n",
       "      <td>81</td>\n",
       "      <td>8</td>\n",
       "      <td>9</td>\n",
       "      <td>2227475.0</td>\n",
       "    </tr>\n",
       "    <tr>\n",
       "      <th>2</th>\n",
       "      <td>Sergio Gómez Martín</td>\n",
       "      <td>23.0</td>\n",
       "      <td>Badalona</td>\n",
       "      <td>1.71</td>\n",
       "      <td>Spain</td>\n",
       "      <td>Defender - Left-Back</td>\n",
       "      <td>1</td>\n",
       "      <td>Manchester City</td>\n",
       "      <td>18</td>\n",
       "      <td>0</td>\n",
       "      <td>...</td>\n",
       "      <td>6.814815</td>\n",
       "      <td>10</td>\n",
       "      <td>4</td>\n",
       "      <td>27</td>\n",
       "      <td>303</td>\n",
       "      <td>37.875</td>\n",
       "      <td>81</td>\n",
       "      <td>8</td>\n",
       "      <td>9</td>\n",
       "      <td>475430.0</td>\n",
       "    </tr>\n",
       "    <tr>\n",
       "      <th>3</th>\n",
       "      <td>Kyle Andrew Walker</td>\n",
       "      <td>33.0</td>\n",
       "      <td>Sheffield</td>\n",
       "      <td>1.78</td>\n",
       "      <td>England</td>\n",
       "      <td>Defender - Right-Back</td>\n",
       "      <td>1</td>\n",
       "      <td>Manchester City</td>\n",
       "      <td>79</td>\n",
       "      <td>1</td>\n",
       "      <td>...</td>\n",
       "      <td>6.814815</td>\n",
       "      <td>10</td>\n",
       "      <td>4</td>\n",
       "      <td>27</td>\n",
       "      <td>303</td>\n",
       "      <td>37.875</td>\n",
       "      <td>81</td>\n",
       "      <td>8</td>\n",
       "      <td>9</td>\n",
       "      <td>4911531.0</td>\n",
       "    </tr>\n",
       "    <tr>\n",
       "      <th>4</th>\n",
       "      <td>Matheus Luiz Nunes</td>\n",
       "      <td>25.0</td>\n",
       "      <td>Rio de Janeiro</td>\n",
       "      <td>1.83</td>\n",
       "      <td>Portugal Brazil</td>\n",
       "      <td>midfield - Central Midfield</td>\n",
       "      <td>1</td>\n",
       "      <td>Manchester City</td>\n",
       "      <td>6</td>\n",
       "      <td>0</td>\n",
       "      <td>...</td>\n",
       "      <td>6.814815</td>\n",
       "      <td>10</td>\n",
       "      <td>4</td>\n",
       "      <td>27</td>\n",
       "      <td>303</td>\n",
       "      <td>37.875</td>\n",
       "      <td>81</td>\n",
       "      <td>8</td>\n",
       "      <td>9</td>\n",
       "      <td>447746.0</td>\n",
       "    </tr>\n",
       "  </tbody>\n",
       "</table>\n",
       "<p>5 rows × 60 columns</p>\n",
       "</div>"
      ],
      "text/plain": [
       "             full_name   age  place_of_birth  height  \\\n",
       "0       Joško Gvardiol  22.0          Zagreb    1.85   \n",
       "1  Nathan Benjamin Aké  29.0        Den Haag    1.80   \n",
       "2  Sergio Gómez Martín  23.0        Badalona    1.71   \n",
       "3   Kyle Andrew Walker  33.0       Sheffield    1.78   \n",
       "4   Matheus Luiz Nunes  25.0  Rio de Janeiro    1.83   \n",
       "\n",
       "                 citizenship                     position  player_agent  \\\n",
       "0                    Croatia       Defender - Centre-Back             1   \n",
       "1  Netherlands Cote d'Ivoire       Defender - Centre-Back             1   \n",
       "2                      Spain         Defender - Left-Back             1   \n",
       "3                    England        Defender - Right-Back             1   \n",
       "4            Portugal Brazil  midfield - Central Midfield             1   \n",
       "\n",
       "      current_club  joined  outfitter  ... trophies_average_score  \\\n",
       "0  Manchester City       7          0  ...               6.814815   \n",
       "1  Manchester City      43          1  ...               6.814815   \n",
       "2  Manchester City      18          0  ...               6.814815   \n",
       "3  Manchester City      79          1  ...               6.814815   \n",
       "4  Manchester City       6          0  ...               6.814815   \n",
       "\n",
       "  trophies_max_score  trophies_min_score trophies_amount  \\\n",
       "0                 10                   4              27   \n",
       "1                 10                   4              27   \n",
       "2                 10                   4              27   \n",
       "3                 10                   4              27   \n",
       "4                 10                   4              27   \n",
       "\n",
       "   club_trophies_total_score  club_trophies_average_score  \\\n",
       "0                        303                       37.875   \n",
       "1                        303                       37.875   \n",
       "2                        303                       37.875   \n",
       "3                        303                       37.875   \n",
       "4                        303                       37.875   \n",
       "\n",
       "   club_trophies_max_score  club_trophies_min_score  club_trophies_amount  \\\n",
       "0                       81                        8                     9   \n",
       "1                       81                        8                     9   \n",
       "2                       81                        8                     9   \n",
       "3                       81                        8                     9   \n",
       "4                       81                        8                     9   \n",
       "\n",
       "   followers  \n",
       "0  1199636.0  \n",
       "1  2227475.0  \n",
       "2   475430.0  \n",
       "3  4911531.0  \n",
       "4   447746.0  \n",
       "\n",
       "[5 rows x 60 columns]"
      ]
     },
     "execution_count": 14,
     "metadata": {},
     "output_type": "execute_result"
    }
   ],
   "source": [
    "# Выводим первые строки DataFrame merged.\n",
    "merged.head()"
   ]
  },
  {
   "cell_type": "code",
   "execution_count": 15,
   "id": "1762101e-8a0b-43ea-8250-958f20b7b872",
   "metadata": {},
   "outputs": [],
   "source": [
    "# Заменяем значения -1 и None в столбце \"followers\" на 0.\n",
    "merged[\"followers\"] = merged[\"followers\"].replace([-1, None], 0)"
   ]
  },
  {
   "cell_type": "markdown",
   "id": "a605b165-ae89-4df9-abc0-bab9af20c7e5",
   "metadata": {},
   "source": [
    "### Сохранение датасета"
   ]
  },
  {
   "cell_type": "code",
   "execution_count": 16,
   "id": "f4e229ad-0eba-4ca8-94ca-0b6a327cf8a3",
   "metadata": {},
   "outputs": [],
   "source": [
    "# Сохраняем DataFrame merged в файл dataset_with_followers.xlsx без указания индекса.\n",
    "merged.to_excel(\"dataset_with_followers.xlsx\", index=False)"
   ]
  }
 ],
 "metadata": {
  "kernelspec": {
   "display_name": "Python 3 (ipykernel)",
   "language": "python",
   "name": "python3"
  },
  "language_info": {
   "codemirror_mode": {
    "name": "ipython",
    "version": 3
   },
   "file_extension": ".py",
   "mimetype": "text/x-python",
   "name": "python",
   "nbconvert_exporter": "python",
   "pygments_lexer": "ipython3",
   "version": "3.10.13"
  }
 },
 "nbformat": 4,
 "nbformat_minor": 5
}
